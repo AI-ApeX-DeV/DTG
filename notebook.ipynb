{
 "cells": [
  {
   "cell_type": "code",
   "execution_count": 1,
   "metadata": {},
   "outputs": [
    {
     "name": "stdout",
     "output_type": "stream",
     "text": [
      "2675301\n",
      "(525599, 9)\n"
     ]
    }
   ],
   "source": [
    "import pandas as pd\n",
    "\n",
    "a=pd.read_csv(\"BTC-2017min.csv\")\n",
    "b=pd.read_csv(\"BTC-2018min.csv\")\n",
    "c=pd.read_csv(\"BTC-2019min.csv\")\n",
    "d=pd.read_csv(\"BTC-2020min.csv\")\n",
    "e=pd.read_csv(\"BTC-2021min.csv\")\n",
    "\n",
    "print(a.shape[0]+b.shape[0]+c.shape[0]+d.shape[0]+e.shape[0])\n",
    "print(a.shape)"
   ]
  },
  {
   "cell_type": "code",
   "execution_count": 2,
   "metadata": {},
   "outputs": [
    {
     "name": "stdout",
     "output_type": "stream",
     "text": [
      "Merged data shape: (2675301, 9)\n",
      "Merged data columns: Index(['unix', 'date', 'symbol', 'open', 'high', 'low', 'close', 'Volume BTC',\n",
      "       'Volume USD'],\n",
      "      dtype='object')\n"
     ]
    }
   ],
   "source": [
    "import pandas as pd\n",
    "\n",
    "# List of file names\n",
    "file_names = ['BTC-2017min.csv', 'BTC-2018min.csv', 'BTC-2019min.csv', 'BTC-2020min.csv','BTC-2021min.csv']\n",
    "\n",
    "# Read each CSV file into a DataFrame\n",
    "dfs = [pd.read_csv(file) for file in file_names]\n",
    "\n",
    "# Concatenate the DataFrames vertically\n",
    "merged_data = pd.concat(dfs, ignore_index=True)\n",
    "\n",
    "# Save the merged data to a new CSV file\n",
    "merged_data.to_csv('merged_data.csv', index=False)\n",
    "\n",
    "# Print information about the merged data\n",
    "print(\"Merged data shape:\", merged_data.shape)\n",
    "print(\"Merged data columns:\", merged_data.columns)\n"
   ]
  },
  {
   "cell_type": "code",
   "execution_count": 4,
   "metadata": {},
   "outputs": [
    {
     "name": "stdout",
     "output_type": "stream",
     "text": [
      "Resampled data shape: (904875, 9)\n",
      "Resampled data columns: Index(['date', 'unix', 'symbol', 'open', 'high', 'low', 'close', 'Volume BTC',\n",
      "       'Volume USD'],\n",
      "      dtype='object')\n"
     ]
    }
   ],
   "source": [
    "import pandas as pd\n",
    "\n",
    "# Read the original dataset\n",
    "df = pd.read_csv('merged_data.csv')\n",
    "\n",
    "# Convert the 'date' column to datetime format\n",
    "df['date'] = pd.to_datetime(df['date'])\n",
    "\n",
    "# Set the 'date' column as the index\n",
    "df.set_index('date', inplace=True)\n",
    "\n",
    "# Resample the data to 3-minute frequency and aggregate using the last value in each interval\n",
    "resampled_df = df.resample('3T').first()\n",
    "\n",
    "# Reset the index to include the 'date' column back as a regular column\n",
    "resampled_df.reset_index(inplace=True)\n",
    "\n",
    "# Save the resampled data to a new CSV file\n",
    "resampled_df.to_csv('resampled_data.csv', index=False)\n",
    "\n",
    "# Print information about the resampled data\n",
    "print(\"Resampled data shape:\", resampled_df.shape)\n",
    "print(\"Resampled data columns:\", resampled_df.columns)\n"
   ]
  },
  {
   "cell_type": "code",
   "execution_count": 8,
   "metadata": {},
   "outputs": [
    {
     "name": "stdout",
     "output_type": "stream",
     "text": [
      "Number of 0 values in column 'open_time': 0\n",
      "Number of 0 values in column 'open': 0\n",
      "Number of 0 values in column 'high': 0\n",
      "Number of 0 values in column 'low': 0\n",
      "Number of 0 values in column 'close': 0\n",
      "Number of 0 values in column 'volume': 2735\n",
      "Number of 0 values in column 'num_trades': 2735\n",
      "Number of 0 values in column 'taker_base_vol': 9182\n"
     ]
    }
   ],
   "source": [
    "import pandas as pd\n",
    "\n",
    "# Read the dataset\n",
    "df = pd.read_csv('BTCUSDTnew-3m.csv')\n",
    "\n",
    "# Iterate through each column and count the number of 0 values\n",
    "for column in df.columns:\n",
    "    zero_count = (df[column] == 0).sum()\n",
    "    print(f\"Number of 0 values in column '{column}': {zero_count}\")\n"
   ]
  },
  {
   "cell_type": "code",
   "execution_count": 6,
   "metadata": {},
   "outputs": [
    {
     "name": "stdout",
     "output_type": "stream",
     "text": [
      "                  open_time      open      high       low     close  \\\n",
      "0       2017-08-17 04:00:00   4261.48   4280.56   4261.48   4280.56   \n",
      "1       2017-08-17 04:03:00   4261.48   4261.48   4261.48   4261.48   \n",
      "2       2017-08-17 04:06:00   4261.48   4261.48   4261.48   4261.48   \n",
      "3       2017-08-17 04:09:00   4261.48   4261.48   4261.48   4261.48   \n",
      "4       2017-08-17 04:12:00   4261.48   4261.48   4261.48   4261.48   \n",
      "...                     ...       ...       ...       ...       ...   \n",
      "1114305 2023-12-31 14:39:00  42503.07  42525.80  42503.06  42509.55   \n",
      "1114306 2023-12-31 14:42:00  42509.54  42513.77  42481.96  42513.76   \n",
      "1114307 2023-12-31 14:45:00  42513.76  42526.36  42491.10  42496.53   \n",
      "1114308 2023-12-31 14:48:00  42496.54  42523.67  42496.53  42504.01   \n",
      "1114309 2023-12-31 14:51:00  42504.01  42504.01  42494.00  42497.21   \n",
      "\n",
      "            volume  num_trades  taker_base_vol  \n",
      "0         2.036257           5        0.336257  \n",
      "1         0.152804           4        0.152804  \n",
      "2         0.000000           0        0.000000  \n",
      "3         0.000000           0        0.000000  \n",
      "4         0.000000           0        0.000000  \n",
      "...            ...         ...             ...  \n",
      "1114305  17.955380        1561        9.193300  \n",
      "1114306  27.821180        1688       17.813370  \n",
      "1114307  27.652450        2265       11.661380  \n",
      "1114308  29.552500        1672       15.450590  \n",
      "1114309  16.157860         758        7.071270  \n",
      "\n",
      "[1114310 rows x 8 columns]\n"
     ]
    }
   ],
   "source": [
    "import pandas as pd\n",
    "from datetime import datetime\n",
    "\n",
    "# Read the CSV file\n",
    "df = pd.read_csv('BTCUSDT-3m.csv')\n",
    "\n",
    "# Convert the 'open_time' column to datetime\n",
    "df['open_time'] = pd.to_datetime(df['open_time'], unit='ms')  # 'ms' indicates milliseconds\n",
    "\n",
    "#save to new csv\n",
    "\n",
    "df.to_csv('BTCUSDTnew-3m.csv', index=False)\n",
    "\n",
    "# Print the updated DataFrame with the new 'open_time' format\n",
    "print(df)\n"
   ]
  },
  {
   "cell_type": "code",
   "execution_count": 7,
   "metadata": {},
   "outputs": [
    {
     "name": "stdout",
     "output_type": "stream",
     "text": [
      "      open_time      open      high       low     close        volume  \\\n",
      "0    2017-08-17   4261.48   4485.39   4200.74   4285.08    795.150377   \n",
      "1    2017-08-18   4285.08   4371.52   3938.77   4108.37   1199.888264   \n",
      "2    2017-08-19   4108.37   4184.69   3850.00   4139.98    381.309763   \n",
      "3    2017-08-20   4120.98   4211.08   4032.62   4086.29    467.083022   \n",
      "4    2017-08-21   4069.13   4119.62   3911.79   4016.00    691.743060   \n",
      "...         ...       ...       ...       ...       ...           ...   \n",
      "2323 2023-12-27  42508.93  43677.00  42098.69  43428.85  36191.211360   \n",
      "2324 2023-12-28  43428.86  43787.57  42241.79  42563.76  35150.524850   \n",
      "2325 2023-12-29  42563.76  43111.00  41300.00  42066.95  42597.189120   \n",
      "2326 2023-12-30  42066.94  42612.32  41520.30  42140.28  22906.578180   \n",
      "2327 2023-12-31  42140.29  42899.00  41965.84  42521.10  14166.914830   \n",
      "\n",
      "      num_trades  taker_base_vol  \n",
      "0           3427      616.248541  \n",
      "1           5233      972.868710  \n",
      "2           2153      274.336042  \n",
      "3           2321      376.795947  \n",
      "4           3972      557.356107  \n",
      "...          ...             ...  \n",
      "2323     1439770    18982.832670  \n",
      "2324     1391826    17422.819100  \n",
      "2325     1571137    21195.341280  \n",
      "2326      936545    11727.696480  \n",
      "2327      601147     7492.241340  \n",
      "\n",
      "[2328 rows x 8 columns]\n"
     ]
    }
   ],
   "source": [
    "import pandas as pd\n",
    "from datetime import datetime\n",
    "\n",
    "# Read the CSV file\n",
    "df = pd.read_csv('BTCUSDT-1d.csv')\n",
    "\n",
    "# Convert the 'open_time' column to datetime\n",
    "df['open_time'] = pd.to_datetime(df['open_time'], unit='ms')  # 'ms' indicates milliseconds\n",
    "\n",
    "#save to new csv\n",
    "\n",
    "df.to_csv('BTCUSDTnew-1d.csv', index=False)\n",
    "\n",
    "# Print the updated DataFrame with the new 'open_time' format\n",
    "print(df)\n"
   ]
  },
  {
   "cell_type": "code",
   "execution_count": null,
   "metadata": {},
   "outputs": [],
   "source": []
  }
 ],
 "metadata": {
  "kernelspec": {
   "display_name": "Python 3",
   "language": "python",
   "name": "python3"
  },
  "language_info": {
   "codemirror_mode": {
    "name": "ipython",
    "version": 3
   },
   "file_extension": ".py",
   "mimetype": "text/x-python",
   "name": "python",
   "nbconvert_exporter": "python",
   "pygments_lexer": "ipython3",
   "version": "3.12.1"
  }
 },
 "nbformat": 4,
 "nbformat_minor": 2
}
