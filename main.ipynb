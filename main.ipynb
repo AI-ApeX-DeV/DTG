{
 "cells": [
  {
   "cell_type": "markdown",
   "metadata": {},
   "source": [
    "# Algorithmic Trading Model Development for BTC/USDT Crypto Market"
   ]
  },
  {
   "cell_type": "code",
   "execution_count": 4,
   "metadata": {},
   "outputs": [],
   "source": [
    "import numpy as np\n",
    "import pandas as pd\n",
    "import matplotlib.pyplot as plt\n",
    "import sklearn"
   ]
  },
  {
   "cell_type": "markdown",
   "metadata": {},
   "source": [
    "## Datasets"
   ]
  },
  {
   "cell_type": "code",
   "execution_count": 6,
   "metadata": {},
   "outputs": [],
   "source": [
    "df_3m  = pd.read_csv('datasets/btc_3m.csv')\n",
    "df_5m  = pd.read_csv('datasets/btc_5m.csv')\n",
    "df_15m = pd.read_csv('datasets/btc_15m.csv')\n",
    "df_30m = pd.read_csv('datasets/btc_30m.csv')\n",
    "df_30m = pd.read_csv('datasets/btc_30m.csv')\n",
    "df_1h  = pd.read_csv('datasets/btc_1h.csv')\n",
    "df_2h  = pd.read_csv('datasets/btc_2h.csv')\n",
    "df_4h  = pd.read_csv('datasets/btc_4h.csv')\n",
    "df_6h  = pd.read_csv('datasets/btc_6h.csv')"
   ]
  },
  {
   "cell_type": "markdown",
   "metadata": {},
   "source": [
    "Adding technical indicators (RSI, MACD-Signal Line, Moving averages, Bollinger bands, ATR)"
   ]
  },
  {
   "cell_type": "code",
   "execution_count": null,
   "metadata": {},
   "outputs": [],
   "source": [
    "def add_indicators(df):\n",
    "    # SMA\n",
    "    df['SMA_14'] = df['close'].rolling(window=14).mean()\n",
    "    df['SMA_20'] = df['close'].rolling(window=20).mean()\n",
    "\n",
    "    # RSI\n",
    "    delta = df['close'].diff()\n",
    "    gain = delta.where(delta > 0, 0)\n",
    "    loss = -delta.where(delta < 0, 0)\n",
    "\n",
    "    avg_gain = gain.rolling(window=14).mean()\n",
    "    avg_loss = loss.rolling(window=14).mean()\n",
    "\n",
    "    rs = avg_gain / avg_loss\n",
    "    df['RSI'] = 100 - (100 / (1 + rs))\n",
    "\n",
    "    # Moving Average Convergence Divergence (MACD)\n",
    "    short_window = 12\n",
    "    long_window = 26\n",
    "    signal_window = 9\n",
    "\n",
    "    exp_short = df['close'].ewm(span=short_window, adjust=False).mean()\n",
    "    exp_long = df['close'].ewm(span=long_window, adjust=False).mean()\n",
    "\n",
    "    df['MACD'] = exp_short - exp_long\n",
    "    df['Signal_Line'] = df['MACD'].ewm(span=signal_window, adjust=False).mean()\n",
    "\n",
    "    # Bollinger Bands\n",
    "    window = 20\n",
    "    df['Upper_Band'] = df['SMA_20'] + 2 * df['close'].rolling(window=window).std()\n",
    "    df['Lower_Band'] = df['SMA_20'] - 2 * df['close'].rolling(window=window).std()\n",
    "\n",
    "    # ATR\n",
    "    # Calculate True Range (TR)\n",
    "    df['High-Low'] = df['high'] - df['low']\n",
    "    df['High-PrevClose'] = abs(df['high'] - df['close'].shift(1))\n",
    "    df['Low-PrevClose'] = abs(df['low'] - df['close'].shift(1))\n",
    "\n",
    "    df['TrueRange'] = df[['High-Low', 'High-PrevClose', 'Low-PrevClose']].max(axis=1)\n",
    "\n",
    "    # Choose the ATR period (e.g., 14 days)\n",
    "    atr_period = 14\n",
    "    df['EMA'] = df['close'].ewm(span=15, adjust=False).mean()\n",
    "    # Calculate ATR using rolling mean\n",
    "    df['ATR'] = df['TrueRange'].rolling(window=atr_period).mean()\n",
    "\n",
    "    short_window = 20  # Example: 20-minute moving average\n",
    "    long_window = 50   # Example: 50-minute moving average\n",
    "    df['short_ma'] = df['close'].rolling(window=short_window, min_periods=1).mean()\n",
    "\n",
    "    # Calculate long-term moving average (long_ma)\n",
    "    df['long_ma'] = df['close'].rolling(window=long_window, min_periods=1).mean()\n",
    "\n",
    "    # Drop intermediate columns used for calculation\n",
    "    df.drop(['High-Low', 'High-PrevClose', 'Low-PrevClose', 'TrueRange'], axis=1, inplace=True)\n",
    "\n",
    "    # Removing null rows\n",
    "    df = df.dropna()\n",
    "    return df"
   ]
  }
 ],
 "metadata": {
  "kernelspec": {
   "display_name": ".env",
   "language": "python",
   "name": "python3"
  },
  "language_info": {
   "codemirror_mode": {
    "name": "ipython",
    "version": 3
   },
   "file_extension": ".py",
   "mimetype": "text/x-python",
   "name": "python",
   "nbconvert_exporter": "python",
   "pygments_lexer": "ipython3",
   "version": "3.10.5"
  }
 },
 "nbformat": 4,
 "nbformat_minor": 2
}
