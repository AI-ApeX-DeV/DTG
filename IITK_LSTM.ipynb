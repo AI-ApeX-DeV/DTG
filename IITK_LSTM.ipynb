{
  "cells": [
    {
      "cell_type": "code",
      "execution_count": 1,
      "metadata": {
        "id": "K-t_q-r9fQ6a"
      },
      "outputs": [],
      "source": [
        "import pandas as pd\n",
        "import numpy as np\n",
        "import matplotlib.pyplot as plt\n",
        "import datetime"
      ]
    },
    {
      "cell_type": "code",
      "execution_count": 16,
      "metadata": {
        "colab": {
          "base_uri": "https://localhost:8080/",
          "height": 424
        },
        "id": "HNtXWn8IfVuD",
        "outputId": "71089d04-8292-4c0a-d0de-5cb6ce1a4c45"
      },
      "outputs": [
        {
          "data": {
            "text/html": [
              "<div>\n",
              "<style scoped>\n",
              "    .dataframe tbody tr th:only-of-type {\n",
              "        vertical-align: middle;\n",
              "    }\n",
              "\n",
              "    .dataframe tbody tr th {\n",
              "        vertical-align: top;\n",
              "    }\n",
              "\n",
              "    .dataframe thead th {\n",
              "        text-align: right;\n",
              "    }\n",
              "</style>\n",
              "<table border=\"1\" class=\"dataframe\">\n",
              "  <thead>\n",
              "    <tr style=\"text-align: right;\">\n",
              "      <th></th>\n",
              "      <th>open_time</th>\n",
              "      <th>open</th>\n",
              "      <th>high</th>\n",
              "      <th>low</th>\n",
              "      <th>close</th>\n",
              "      <th>volume</th>\n",
              "      <th>num_trades</th>\n",
              "      <th>taker_base_vol</th>\n",
              "    </tr>\n",
              "  </thead>\n",
              "  <tbody>\n",
              "    <tr>\n",
              "      <th>0</th>\n",
              "      <td>2017-08-17 04:00:00</td>\n",
              "      <td>4261.48</td>\n",
              "      <td>4280.56</td>\n",
              "      <td>4261.48</td>\n",
              "      <td>4280.56</td>\n",
              "      <td>2.036257</td>\n",
              "      <td>5</td>\n",
              "      <td>0.336257</td>\n",
              "    </tr>\n",
              "    <tr>\n",
              "      <th>1</th>\n",
              "      <td>2017-08-17 04:03:00</td>\n",
              "      <td>4261.48</td>\n",
              "      <td>4261.48</td>\n",
              "      <td>4261.48</td>\n",
              "      <td>4261.48</td>\n",
              "      <td>0.152804</td>\n",
              "      <td>4</td>\n",
              "      <td>0.152804</td>\n",
              "    </tr>\n",
              "    <tr>\n",
              "      <th>2</th>\n",
              "      <td>2017-08-17 04:06:00</td>\n",
              "      <td>4261.48</td>\n",
              "      <td>4261.48</td>\n",
              "      <td>4261.48</td>\n",
              "      <td>4261.48</td>\n",
              "      <td>0.000000</td>\n",
              "      <td>0</td>\n",
              "      <td>0.000000</td>\n",
              "    </tr>\n",
              "    <tr>\n",
              "      <th>3</th>\n",
              "      <td>2017-08-17 04:09:00</td>\n",
              "      <td>4261.48</td>\n",
              "      <td>4261.48</td>\n",
              "      <td>4261.48</td>\n",
              "      <td>4261.48</td>\n",
              "      <td>0.000000</td>\n",
              "      <td>0</td>\n",
              "      <td>0.000000</td>\n",
              "    </tr>\n",
              "    <tr>\n",
              "      <th>4</th>\n",
              "      <td>2017-08-17 04:12:00</td>\n",
              "      <td>4261.48</td>\n",
              "      <td>4261.48</td>\n",
              "      <td>4261.48</td>\n",
              "      <td>4261.48</td>\n",
              "      <td>0.000000</td>\n",
              "      <td>0</td>\n",
              "      <td>0.000000</td>\n",
              "    </tr>\n",
              "    <tr>\n",
              "      <th>...</th>\n",
              "      <td>...</td>\n",
              "      <td>...</td>\n",
              "      <td>...</td>\n",
              "      <td>...</td>\n",
              "      <td>...</td>\n",
              "      <td>...</td>\n",
              "      <td>...</td>\n",
              "      <td>...</td>\n",
              "    </tr>\n",
              "    <tr>\n",
              "      <th>1114305</th>\n",
              "      <td>2023-12-31 14:39:00</td>\n",
              "      <td>42503.07</td>\n",
              "      <td>42525.80</td>\n",
              "      <td>42503.06</td>\n",
              "      <td>42509.55</td>\n",
              "      <td>17.955380</td>\n",
              "      <td>1561</td>\n",
              "      <td>9.193300</td>\n",
              "    </tr>\n",
              "    <tr>\n",
              "      <th>1114306</th>\n",
              "      <td>2023-12-31 14:42:00</td>\n",
              "      <td>42509.54</td>\n",
              "      <td>42513.77</td>\n",
              "      <td>42481.96</td>\n",
              "      <td>42513.76</td>\n",
              "      <td>27.821180</td>\n",
              "      <td>1688</td>\n",
              "      <td>17.813370</td>\n",
              "    </tr>\n",
              "    <tr>\n",
              "      <th>1114307</th>\n",
              "      <td>2023-12-31 14:45:00</td>\n",
              "      <td>42513.76</td>\n",
              "      <td>42526.36</td>\n",
              "      <td>42491.10</td>\n",
              "      <td>42496.53</td>\n",
              "      <td>27.652450</td>\n",
              "      <td>2265</td>\n",
              "      <td>11.661380</td>\n",
              "    </tr>\n",
              "    <tr>\n",
              "      <th>1114308</th>\n",
              "      <td>2023-12-31 14:48:00</td>\n",
              "      <td>42496.54</td>\n",
              "      <td>42523.67</td>\n",
              "      <td>42496.53</td>\n",
              "      <td>42504.01</td>\n",
              "      <td>29.552500</td>\n",
              "      <td>1672</td>\n",
              "      <td>15.450590</td>\n",
              "    </tr>\n",
              "    <tr>\n",
              "      <th>1114309</th>\n",
              "      <td>2023-12-31 14:51:00</td>\n",
              "      <td>42504.01</td>\n",
              "      <td>42504.01</td>\n",
              "      <td>42494.00</td>\n",
              "      <td>42497.21</td>\n",
              "      <td>16.157860</td>\n",
              "      <td>758</td>\n",
              "      <td>7.071270</td>\n",
              "    </tr>\n",
              "  </tbody>\n",
              "</table>\n",
              "<p>1114310 rows × 8 columns</p>\n",
              "</div>"
            ],
            "text/plain": [
              "                   open_time      open      high       low     close  \\\n",
              "0        2017-08-17 04:00:00   4261.48   4280.56   4261.48   4280.56   \n",
              "1        2017-08-17 04:03:00   4261.48   4261.48   4261.48   4261.48   \n",
              "2        2017-08-17 04:06:00   4261.48   4261.48   4261.48   4261.48   \n",
              "3        2017-08-17 04:09:00   4261.48   4261.48   4261.48   4261.48   \n",
              "4        2017-08-17 04:12:00   4261.48   4261.48   4261.48   4261.48   \n",
              "...                      ...       ...       ...       ...       ...   \n",
              "1114305  2023-12-31 14:39:00  42503.07  42525.80  42503.06  42509.55   \n",
              "1114306  2023-12-31 14:42:00  42509.54  42513.77  42481.96  42513.76   \n",
              "1114307  2023-12-31 14:45:00  42513.76  42526.36  42491.10  42496.53   \n",
              "1114308  2023-12-31 14:48:00  42496.54  42523.67  42496.53  42504.01   \n",
              "1114309  2023-12-31 14:51:00  42504.01  42504.01  42494.00  42497.21   \n",
              "\n",
              "            volume  num_trades  taker_base_vol  \n",
              "0         2.036257           5        0.336257  \n",
              "1         0.152804           4        0.152804  \n",
              "2         0.000000           0        0.000000  \n",
              "3         0.000000           0        0.000000  \n",
              "4         0.000000           0        0.000000  \n",
              "...            ...         ...             ...  \n",
              "1114305  17.955380        1561        9.193300  \n",
              "1114306  27.821180        1688       17.813370  \n",
              "1114307  27.652450        2265       11.661380  \n",
              "1114308  29.552500        1672       15.450590  \n",
              "1114309  16.157860         758        7.071270  \n",
              "\n",
              "[1114310 rows x 8 columns]"
            ]
          },
          "execution_count": 16,
          "metadata": {},
          "output_type": "execute_result"
        }
      ],
      "source": [
        "df = pd.read_csv('BTCUSDTnew-3m.csv')\n",
        "df"
      ]
    },
    {
      "cell_type": "markdown",
      "metadata": {
        "id": "6PMj1qK5hMiG"
      },
      "source": [
        "Keeeping only open_time and close"
      ]
    },
    {
      "cell_type": "code",
      "execution_count": 17,
      "metadata": {
        "id": "7GWkLTraflRU"
      },
      "outputs": [],
      "source": [
        "df = df[['open_time', 'close']]"
      ]
    },
    {
      "cell_type": "markdown",
      "metadata": {
        "id": "VZSsuQENhTh5"
      },
      "source": [
        "Converting open_time to datetime"
      ]
    },
    {
      "cell_type": "code",
      "execution_count": 18,
      "metadata": {
        "colab": {
          "base_uri": "https://localhost:8080/"
        },
        "id": "Qlg3YTjLfooE",
        "outputId": "c91e430e-b58d-4b52-dccf-3b1c87a4454c"
      },
      "outputs": [
        {
          "name": "stderr",
          "output_type": "stream",
          "text": [
            "C:\\Users\\sanya\\AppData\\Local\\Temp\\ipykernel_12556\\1031759263.py:1: SettingWithCopyWarning: \n",
            "A value is trying to be set on a copy of a slice from a DataFrame.\n",
            "Try using .loc[row_indexer,col_indexer] = value instead\n",
            "\n",
            "See the caveats in the documentation: https://pandas.pydata.org/pandas-docs/stable/user_guide/indexing.html#returning-a-view-versus-a-copy\n",
            "  df['open_time'] = pd.to_datetime(df['open_time'])\n"
          ]
        }
      ],
      "source": [
        "df['open_time'] = pd.to_datetime(df['open_time'])"
      ]
    },
    {
      "cell_type": "code",
      "execution_count": 19,
      "metadata": {
        "colab": {
          "base_uri": "https://localhost:8080/",
          "height": 143
        },
        "id": "5x0XTJlnf7y2",
        "outputId": "abc0ee01-a761-44ca-e185-fa7a9f4cdc23"
      },
      "outputs": [
        {
          "data": {
            "text/html": [
              "<div>\n",
              "<style scoped>\n",
              "    .dataframe tbody tr th:only-of-type {\n",
              "        vertical-align: middle;\n",
              "    }\n",
              "\n",
              "    .dataframe tbody tr th {\n",
              "        vertical-align: top;\n",
              "    }\n",
              "\n",
              "    .dataframe thead th {\n",
              "        text-align: right;\n",
              "    }\n",
              "</style>\n",
              "<table border=\"1\" class=\"dataframe\">\n",
              "  <thead>\n",
              "    <tr style=\"text-align: right;\">\n",
              "      <th></th>\n",
              "      <th>close</th>\n",
              "    </tr>\n",
              "    <tr>\n",
              "      <th>open_time</th>\n",
              "      <th></th>\n",
              "    </tr>\n",
              "  </thead>\n",
              "  <tbody>\n",
              "    <tr>\n",
              "      <th>2017-08-17 04:00:00</th>\n",
              "      <td>4280.56</td>\n",
              "    </tr>\n",
              "    <tr>\n",
              "      <th>2017-08-17 04:03:00</th>\n",
              "      <td>4261.48</td>\n",
              "    </tr>\n",
              "  </tbody>\n",
              "</table>\n",
              "</div>"
            ],
            "text/plain": [
              "                       close\n",
              "open_time                   \n",
              "2017-08-17 04:00:00  4280.56\n",
              "2017-08-17 04:03:00  4261.48"
            ]
          },
          "execution_count": 19,
          "metadata": {},
          "output_type": "execute_result"
        }
      ],
      "source": [
        "df.index = df.pop('open_time')\n",
        "df.head(2)"
      ]
    },
    {
      "cell_type": "code",
      "execution_count": 20,
      "metadata": {
        "colab": {
          "base_uri": "https://localhost:8080/",
          "height": 447
        },
        "id": "EO6TqB1ef_SO",
        "outputId": "b4be5d79-c436-4ea6-cb11-5c01e9e28171"
      },
      "outputs": [
        {
          "data": {
            "text/plain": [
              "[<matplotlib.lines.Line2D at 0x11e9e739720>]"
            ]
          },
          "execution_count": 20,
          "metadata": {},
          "output_type": "execute_result"
        },
        {
          "data": {
            "image/png": "[encoded data removed]",
            "text/plain": [
              "<Figure size 640x480 with 1 Axes>"
            ]
          },
          "metadata": {},
          "output_type": "display_data"
        }
      ],
      "source": [
        "plt.plot(df.index, df['close'])"
      ]
    },
    {
      "cell_type": "code",
      "execution_count": 21,
      "metadata": {
        "colab": {
          "base_uri": "https://localhost:8080/",
          "height": 455
        },
        "id": "bU2X1XWK9HwR",
        "outputId": "03a3882f-61f3-476f-da66-0be0b10449bf"
      },
      "outputs": [
        {
          "data": {
            "text/html": [
              "<div>\n",
              "<style scoped>\n",
              "    .dataframe tbody tr th:only-of-type {\n",
              "        vertical-align: middle;\n",
              "    }\n",
              "\n",
              "    .dataframe tbody tr th {\n",
              "        vertical-align: top;\n",
              "    }\n",
              "\n",
              "    .dataframe thead th {\n",
              "        text-align: right;\n",
              "    }\n",
              "</style>\n",
              "<table border=\"1\" class=\"dataframe\">\n",
              "  <thead>\n",
              "    <tr style=\"text-align: right;\">\n",
              "      <th></th>\n",
              "      <th>close</th>\n",
              "    </tr>\n",
              "    <tr>\n",
              "      <th>open_time</th>\n",
              "      <th></th>\n",
              "    </tr>\n",
              "  </thead>\n",
              "  <tbody>\n",
              "    <tr>\n",
              "      <th>2018-01-01</th>\n",
              "      <td>13680.0</td>\n",
              "    </tr>\n",
              "  </tbody>\n",
              "</table>\n",
              "</div>"
            ],
            "text/plain": [
              "              close\n",
              "open_time          \n",
              "2018-01-01  13680.0"
            ]
          },
          "execution_count": 21,
          "metadata": {},
          "output_type": "execute_result"
        }
      ],
      "source": [
        "# Making the dataset between the required time frame\n",
        "start_date = datetime.datetime(year=2018,month=1,day=1)\n",
        "end_date = datetime.datetime(year=2022,month=1,day=31)\n",
        "df = df.loc[(df.index >= start_date) & (df.index <= end_date)]\n",
        "df.head(1)"
      ]
    },
    {
      "cell_type": "code",
      "execution_count": 24,
      "metadata": {
        "colab": {
          "base_uri": "https://localhost:8080/",
          "height": 550
        },
        "id": "iN0iEMK85u9x",
        "outputId": "ba6103df-f9ff-46c3-e7ac-2a6ab6bbc122"
      },
      "outputs": [],
      "source": [
        "def add_previous_close_columns(df, n):\n",
        "    for i in range(1, n+1):\n",
        "        df[f'close_{i}_prev'] = df['close'].shift(i)\n",
        "    # Dropping first 3 columns due to null values\n",
        "    df = df.drop(df.index[:n])\n",
        "    # Reversing the column order\n",
        "    df = df.iloc[:, ::-1]\n",
        "    return df\n",
        "\n",
        "WINDOW_SIZE = 60  # Set the number of previous 'close' values you want to include\n",
        "df = add_previous_close_columns(df, WINDOW_SIZE)\n",
        "# df.head()"
      ]
    },
    {
      "cell_type": "code",
      "execution_count": 25,
      "metadata": {
        "colab": {
          "base_uri": "https://localhost:8080/"
        },
        "id": "pDKayLtrgQqZ",
        "outputId": "a6b67e56-9682-46e5-8dd7-2ae99266dc7e"
      },
      "outputs": [
        {
          "data": {
            "text/plain": [
              "((712957,), (712957, 60, 1), (712957,))"
            ]
          },
          "execution_count": 25,
          "metadata": {},
          "output_type": "execute_result"
        }
      ],
      "source": [
        "def windowed_df_to_date_X_y(windowed_dataframe):\n",
        "  dates = windowed_dataframe.index\n",
        "\n",
        "  df_as_np = windowed_dataframe.to_numpy()\n",
        "\n",
        "  middle_matrix = df_as_np[:, 0:-1]\n",
        "  X = middle_matrix.reshape((len(dates), middle_matrix.shape[1], 1))\n",
        "\n",
        "  Y = df_as_np[:, -1]\n",
        "\n",
        "  return dates, X.astype(np.float32), Y.astype(np.float32)\n",
        "\n",
        "dates, X, y = windowed_df_to_date_X_y(df)\n",
        "\n",
        "dates.shape, X.shape, y.shape"
      ]
    },
    {
      "cell_type": "code",
      "execution_count": 26,
      "metadata": {
        "colab": {
          "base_uri": "https://localhost:8080/",
          "height": 447
        },
        "id": "KtWX4MPOgSKx",
        "outputId": "579f3c34-7e33-4110-ceab-bba6abb00553"
      },
      "outputs": [
        {
          "data": {
            "text/plain": [
              "<matplotlib.legend.Legend at 0x11f2e0378e0>"
            ]
          },
          "execution_count": 26,
          "metadata": {},
          "output_type": "execute_result"
        },
        {
          "data": {
            "image/png": "[encoded data removed]",
            "text/plain": [
              "<Figure size 640x480 with 1 Axes>"
            ]
          },
          "metadata": {},
          "output_type": "display_data"
        }
      ],
      "source": [
        "q_80 = int(len(dates) * .8)\n",
        "q_90 = int(len(dates) * .9)\n",
        "\n",
        "dates_train, X_train, y_train = dates[:q_80], X[:q_80], y[:q_80]\n",
        "\n",
        "dates_val, X_val, y_val = dates[q_80:q_90], X[q_80:q_90], y[q_80:q_90]\n",
        "dates_test, X_test, y_test = dates[q_90:], X[q_90:], y[q_90:]\n",
        "\n",
        "plt.plot(dates_train, y_train)\n",
        "plt.plot(dates_val, y_val)\n",
        "plt.plot(dates_test, y_test)\n",
        "\n",
        "plt.legend(['Train', 'Validation', 'Test'])"
      ]
    },
    {
      "cell_type": "code",
      "execution_count": 27,
      "metadata": {
        "id": "gpP72LeNgVeQ"
      },
      "outputs": [],
      "source": [
        "from keras.models import Sequential\n",
        "from keras.optimizers import Adam\n",
        "from keras.layers import Dense, Bidirectional, LSTM"
      ]
    },
    {
      "cell_type": "code",
      "execution_count": 31,
      "metadata": {
        "colab": {
          "base_uri": "https://localhost:8080/"
        },
        "id": "G7_aqmZTgSvK",
        "outputId": "64e4f116-be33-49bb-a32a-20e730f415b8"
      },
      "outputs": [
        {
          "name": "stdout",
          "output_type": "stream",
          "text": [
            "Model: \"sequential_3\"\n",
            "_________________________________________________________________\n",
            " Layer (type)                Output Shape              Param #   \n",
            "=================================================================\n",
            " bidirectional_6 (Bidirectio  (None, 60, 100)          20800     \n",
            " nal)                                                            \n",
            "                                                                 \n",
            " bidirectional_7 (Bidirectio  (None, 100)              60400     \n",
            " nal)                                                            \n",
            "                                                                 \n",
            " dense_6 (Dense)             (None, 25)                2525      \n",
            "                                                                 \n",
            " dense_7 (Dense)             (None, 1)                 26        \n",
            "                                                                 \n",
            "=================================================================\n",
            "Total params: 83,751\n",
            "Trainable params: 83,751\n",
            "Non-trainable params: 0\n",
            "_________________________________________________________________\n"
          ]
        }
      ],
      "source": [
        "model = Sequential()\n",
        "model.add(Bidirectional(LSTM(50, return_sequences=True,input_shape=(WINDOW_SIZE, 1))))\n",
        "model.add(Bidirectional(LSTM(50, return_sequences=False)))\n",
        "model.add(Dense(25))\n",
        "model.add(Dense(1))\n",
        "\n",
        "model.build(input_shape=(None, WINDOW_SIZE, 1))\n",
        "\n",
        "model.compile(loss='mean_squared_error',\n",
        "              optimizer=Adam(),\n",
        "              metrics=['mean_absolute_error'])\n",
        "\n",
        "model.summary()"
      ]
    },
    {
      "cell_type": "code",
      "execution_count": 32,
      "metadata": {
        "colab": {
          "base_uri": "https://localhost:8080/"
        },
        "id": "pNNSmbLl4ykK",
        "outputId": "ff5002f9-bf74-459e-debb-6fc17d75451d"
      },
      "outputs": [
        {
          "name": "stdout",
          "output_type": "stream",
          "text": [
            "Epoch 1/10\n",
            "17824/17824 [==============================] - 504s 27ms/step - loss: 130885624.0000 - mean_absolute_error: 6627.1055 - val_loss: 1077065600.0000 - val_mean_absolute_error: 31496.6465\n",
            "Epoch 2/10\n",
            "17824/17824 [==============================] - 490s 27ms/step - loss: 124912024.0000 - mean_absolute_error: 6493.2534 - val_loss: 1080241664.0000 - val_mean_absolute_error: 31547.0625\n",
            "Epoch 3/10\n",
            "17824/17824 [==============================] - 478s 27ms/step - loss: 124914816.0000 - mean_absolute_error: 6493.2490 - val_loss: 1082930048.0000 - val_mean_absolute_error: 31589.6621\n",
            "Epoch 4/10\n",
            "17824/17824 [==============================] - 497s 28ms/step - loss: 124911480.0000 - mean_absolute_error: 6492.2197 - val_loss: 1076952448.0000 - val_mean_absolute_error: 31494.8945\n",
            "Epoch 5/10\n",
            "17824/17824 [==============================] - 504s 28ms/step - loss: 124912568.0000 - mean_absolute_error: 6492.9883 - val_loss: 1081335936.0000 - val_mean_absolute_error: 31564.4160\n",
            "Epoch 6/10\n",
            "17824/17824 [==============================] - 489s 27ms/step - loss: 124913816.0000 - mean_absolute_error: 6492.7788 - val_loss: 1079492864.0000 - val_mean_absolute_error: 31535.2168\n",
            "Epoch 7/10\n",
            "17824/17824 [==============================] - 499s 28ms/step - loss: 124915568.0000 - mean_absolute_error: 6493.6968 - val_loss: 1085374592.0000 - val_mean_absolute_error: 31628.3418\n",
            "Epoch 8/10\n",
            "17824/17824 [==============================] - 496s 28ms/step - loss: 124910672.0000 - mean_absolute_error: 6492.7012 - val_loss: 1084032896.0000 - val_mean_absolute_error: 31607.1270\n",
            "Epoch 9/10\n",
            "17824/17824 [==============================] - 497s 28ms/step - loss: 124909728.0000 - mean_absolute_error: 6492.1387 - val_loss: 1076979584.0000 - val_mean_absolute_error: 31495.3535\n",
            "Epoch 10/10\n",
            "17824/17824 [==============================] - 481s 27ms/step - loss: 124913656.0000 - mean_absolute_error: 6493.2051 - val_loss: 1082105728.0000 - val_mean_absolute_error: 31576.5742\n"
          ]
        },
        {
          "data": {
            "text/plain": [
              "<keras.callbacks.History at 0x11fc17054b0>"
            ]
          },
          "execution_count": 32,
          "metadata": {},
          "output_type": "execute_result"
        }
      ],
      "source": [
        "model.fit(X_train, y_train, validation_data=(X_val, y_val), epochs=10)"
      ]
    },
    {
      "cell_type": "code",
      "execution_count": 33,
      "metadata": {
        "colab": {
          "base_uri": "https://localhost:8080/",
          "height": 465
        },
        "id": "z7GLXAWygijZ",
        "outputId": "ac04180c-eb52-48e2-ed76-2e997e19ca29"
      },
      "outputs": [
        {
          "name": "stdout",
          "output_type": "stream",
          "text": [
            "17824/17824 [==============================] - 194s 11ms/step\n"
          ]
        },
        {
          "data": {
            "text/plain": [
              "<matplotlib.legend.Legend at 0x11f6f3a6d70>"
            ]
          },
          "execution_count": 33,
          "metadata": {},
          "output_type": "execute_result"
        },
        {
          "data": {
            "image/png": "[encoded data removed]",
            "text/plain": [
              "<Figure size 640x480 with 1 Axes>"
            ]
          },
          "metadata": {},
          "output_type": "display_data"
        }
      ],
      "source": [
        "train_predictions = model.predict(X_train).flatten()\n",
        "\n",
        "plt.plot(dates_train, train_predictions)\n",
        "plt.plot(dates_train, y_train)\n",
        "plt.legend(['Training Predictions', 'Training Observations'])"
      ]
    },
    {
      "cell_type": "code",
      "execution_count": 34,
      "metadata": {
        "colab": {
          "base_uri": "https://localhost:8080/"
        },
        "id": "dFvTm4BtCO8h",
        "outputId": "57dbeeea-6ebe-4cc7-85ea-edaa791d6465"
      },
      "outputs": [],
      "source": [
        "model.save(\"BTC_LSTM.h5\")"
      ]
    },
    {
      "cell_type": "code",
      "execution_count": null,
      "metadata": {
        "colab": {
          "base_uri": "https://localhost:8080/",
          "height": 465
        },
        "id": "O7WHraBqgo8r",
        "outputId": "e406523c-60e2-44f0-e7e6-a9e93a8a498c"
      },
      "outputs": [],
      "source": [
        "val_predictions = model.predict(X_val).flatten()\n",
        "\n",
        "plt.plot(dates_val, val_predictions)\n",
        "plt.plot(dates_val, y_val)\n",
        "plt.legend(['Validation Predictions', 'Validation Observations'])"
      ]
    },
    {
      "cell_type": "code",
      "execution_count": null,
      "metadata": {
        "colab": {
          "base_uri": "https://localhost:8080/",
          "height": 465
        },
        "id": "1vqlVaFOgqDf",
        "outputId": "296dc2ce-c7f2-4faa-889d-571200a94692"
      },
      "outputs": [],
      "source": [
        "test_predictions = model.predict(X_test).flatten()\n",
        "\n",
        "plt.plot(dates_test, test_predictions)\n",
        "plt.plot(dates_test, y_test)\n",
        "plt.legend(['Testing Predictions', 'Testing Observations'])"
      ]
    },
    {
      "cell_type": "code",
      "execution_count": null,
      "metadata": {
        "colab": {
          "base_uri": "https://localhost:8080/",
          "height": 447
        },
        "id": "kiC0w6xJgsgs",
        "outputId": "1515bae9-8f04-428b-c70d-2966ff86b7bb"
      },
      "outputs": [],
      "source": [
        "plt.plot(dates_train, train_predictions)\n",
        "plt.plot(dates_train, y_train)\n",
        "plt.plot(dates_val, val_predictions)\n",
        "plt.plot(dates_val, y_val)\n",
        "plt.plot(dates_test, test_predictions)\n",
        "plt.plot(dates_test, y_test)\n",
        "plt.legend(['Training Predictions',\n",
        "            'Training Observations',\n",
        "            'Validation Predictions',\n",
        "            'Validation Observations',\n",
        "            'Testing Predictions',\n",
        "            'Testing Observations'])"
      ]
    },
    {
      "cell_type": "code",
      "execution_count": null,
      "metadata": {
        "colab": {
          "base_uri": "https://localhost:8080/"
        },
        "id": "mqDQ79dagxb_",
        "outputId": "09eb1fc6-b86b-4419-8e1a-b6dc0e80c899"
      },
      "outputs": [],
      "source": [
        "from copy import deepcopy\n",
        "\n",
        "recursive_predictions = []\n",
        "recursive_dates = np.concatenate([dates_val, dates_test])\n",
        "\n",
        "for target_date in recursive_dates:\n",
        "  last_window = deepcopy(X_train[-1])\n",
        "  next_prediction = model.predict(np.array([last_window])).flatten()\n",
        "  recursive_predictions.append(next_prediction)\n",
        "  last_window[-1] = next_prediction"
      ]
    },
    {
      "cell_type": "code",
      "execution_count": null,
      "metadata": {
        "id": "z6uEH8-Jgyoq"
      },
      "outputs": [],
      "source": [
        "plt.plot(dates_train, train_predictions)\n",
        "plt.plot(dates_train, y_train)\n",
        "plt.plot(dates_val, val_predictions)\n",
        "plt.plot(dates_val, y_val)\n",
        "plt.plot(dates_test, test_predictions)\n",
        "plt.plot(dates_test, y_test)\n",
        "plt.plot(recursive_dates, recursive_predictions)\n",
        "plt.legend(['Training Predictions',\n",
        "            'Training Observations',\n",
        "            'Validation Predictions',\n",
        "            'Validation Observations',\n",
        "            'Testing Predictions',\n",
        "            'Testing Observations',\n",
        "            'Recursive Predictions'])"
      ]
    },
    {
      "cell_type": "code",
      "execution_count": null,
      "metadata": {
        "id": "mwRJ47bECmtI"
      },
      "outputs": [],
      "source": []
    }
  ],
  "metadata": {
    "accelerator": "GPU",
    "colab": {
      "gpuType": "T4",
      "provenance": []
    },
    "kernelspec": {
      "display_name": "Python 3",
      "name": "python3"
    },
    "language_info": {
      "codemirror_mode": {
        "name": "ipython",
        "version": 3
      },
      "file_extension": ".py",
      "mimetype": "text/x-python",
      "name": "python",
      "nbconvert_exporter": "python",
      "pygments_lexer": "ipython3",
      "version": "3.10.5"
    }
  },
  "nbformat": 4,
  "nbformat_minor": 0
}
